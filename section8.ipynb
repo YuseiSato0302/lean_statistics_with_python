{
 "cells": [
  {
   "cell_type": "code",
   "execution_count": 6,
   "metadata": {},
   "outputs": [
    {
     "name": "stdout",
     "output_type": "stream",
     "text": [
      "57% of the numbers are included within mean ± 1std\n"
     ]
    }
   ],
   "source": [
    "import numpy as np\n",
    "# 0~1の間でランダムに値をサンプリング\n",
    "randoms = np.random.rand(1000)\n",
    "mean = np.mean(randoms)\n",
    "std = np.std(randoms)\n",
    "\n",
    "# 平均±標準偏差の範囲にいくつ値があるかをカウントする\n",
    "count = 0\n",
    "coef = 1\n",
    "thresh = coef * std\n",
    "for num in randoms:\n",
    "    if num > mean - thresh and num < mean + thresh:\n",
    "        count += 1\n",
    "        \n",
    "print('{}% of the numbers are included within mean ± {}std'.format(int(count/len(randoms)*100), coef))"
   ]
  },
  {
   "cell_type": "markdown",
   "metadata": {},
   "source": [
    "# MEMO :\n",
    "正規分布ではmean±1std, mean±2std, mean±3stdがそれぞれ全体の68-95-99.7の割合を占める\n",
    "特にmean±1.96stdは全体の95%を占める"
   ]
  },
  {
   "cell_type": "markdown",
   "metadata": {},
   "source": []
  }
 ],
 "metadata": {
  "kernelspec": {
   "display_name": "Python 3",
   "language": "python",
   "name": "python3"
  },
  "language_info": {
   "codemirror_mode": {
    "name": "ipython",
    "version": 3
   },
   "file_extension": ".py",
   "mimetype": "text/x-python",
   "name": "python",
   "nbconvert_exporter": "python",
   "pygments_lexer": "ipython3",
   "version": "3.10.12"
  }
 },
 "nbformat": 4,
 "nbformat_minor": 2
}
