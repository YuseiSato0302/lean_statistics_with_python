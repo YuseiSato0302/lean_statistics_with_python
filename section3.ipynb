{
 "cells": [
  {
   "cell_type": "code",
   "execution_count": 2,
   "metadata": {},
   "outputs": [
    {
     "name": "stdout",
     "output_type": "stream",
     "text": [
      "mean is 0.00019666339857967593 (time:0.01s)\n",
      "median is -0.00022219660459922097 (time:0.23s)\n"
     ]
    }
   ],
   "source": [
    "import numpy as np \n",
    "import time\n",
    "\n",
    "# 標準正規分布からランダムで値を抽出\n",
    "randoms = np.random.randn(10**7)\n",
    "\n",
    "# 平均計算前の時間(sec)\n",
    "beforeMean = time.time()\n",
    "\n",
    "# 平均を計算\n",
    "mean = np.mean(randoms)\n",
    "\n",
    "# 平均計算後の時間(sec)\n",
    "afterMean = time.time()\n",
    "print('mean is {} (time:{:.2f}s)'.format(mean, afterMean - beforeMean))\n",
    "\n",
    "# 中央値計算前の時間(sec)\n",
    "beforeMedian = time.time()\n",
    "\n",
    "# 中央値を計算\n",
    "median = np.median(randoms)\n",
    "\n",
    "# 中央値計算後の時間(sec)\n",
    "afterMedian = time.time()\n",
    "print('median is {} (time:{:.2f}s)'.format(median, afterMedian - beforeMedian))"
   ]
  },
  {
   "cell_type": "code",
   "execution_count": 4,
   "metadata": {},
   "outputs": [
    {
     "name": "stdout",
     "output_type": "stream",
     "text": [
      "[3]\n",
      "[2]\n"
     ]
    },
    {
     "name": "stderr",
     "output_type": "stream",
     "text": [
      "/tmp/ipykernel_219938/3886486043.py:3: FutureWarning: Unlike other reduction functions (e.g. `skew`, `kurtosis`), the default behavior of `mode` typically preserves the axis it acts along. In SciPy 1.11.0, this behavior will change: the default value of `keepdims` will become False, the `axis` over which the statistic is taken will be eliminated, and the value None will no longer be accepted. Set `keepdims` to True or False to avoid this warning.\n",
      "  mode, count = stats.mode([6,2,4,5,1,3,5,3,4])\n"
     ]
    }
   ],
   "source": [
    "from scipy import stats\n",
    "# 最頻値とその出現回数を返す\n",
    "mode, count = stats.mode([6,2,4,5,1,3,5,3,4])\n",
    "print(mode)\n",
    "print(count)"
   ]
  },
  {
   "cell_type": "code",
   "execution_count": 5,
   "metadata": {},
   "outputs": [
    {
     "name": "stdout",
     "output_type": "stream",
     "text": [
      "[[1 2 3 1]]\n",
      "[[1 2 2 1]]\n"
     ]
    },
    {
     "name": "stderr",
     "output_type": "stream",
     "text": [
      "/tmp/ipykernel_219938/43287928.py:5: FutureWarning: Unlike other reduction functions (e.g. `skew`, `kurtosis`), the default behavior of `mode` typically preserves the axis it acts along. In SciPy 1.11.0, this behavior will change: the default value of `keepdims` will become False, the `axis` over which the statistic is taken will be eliminated, and the value None will no longer be accepted. Set `keepdims` to True or False to avoid this warning.\n",
      "  mode, count = stats.mode(array, axis=0)\n"
     ]
    }
   ],
   "source": [
    "array = np.array([[1, 5, 3, 2],\n",
    "                  [4, 1, 3, 4],\n",
    "                  [7, 2, 1, 5],\n",
    "                  [5, 2, 4, 1]])\n",
    "mode, count = stats.mode(array, axis=0)\n",
    "print(mode)\n",
    "print(count)"
   ]
  }
 ],
 "metadata": {
  "kernelspec": {
   "display_name": "Python 3",
   "language": "python",
   "name": "python3"
  },
  "language_info": {
   "codemirror_mode": {
    "name": "ipython",
    "version": 3
   },
   "file_extension": ".py",
   "mimetype": "text/x-python",
   "name": "python",
   "nbconvert_exporter": "python",
   "pygments_lexer": "ipython3",
   "version": "3.10.12"
  }
 },
 "nbformat": 4,
 "nbformat_minor": 2
}
