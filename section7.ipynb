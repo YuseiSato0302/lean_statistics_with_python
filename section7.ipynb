{
 "cells": [
  {
   "cell_type": "code",
   "execution_count": 1,
   "metadata": {},
   "outputs": [
    {
     "name": "stdout",
     "output_type": "stream",
     "text": [
      "population mean is 15.5\n",
      "sample mean is 13.8\n",
      "samples: [ 1 16 16 18 18]\n"
     ]
    }
   ],
   "source": [
    "import numpy as np \n",
    "population = np.array([1, 5, 10, 11, 14, 15, 15, 16, 18, 18, 19, 20, 25, 30])\n",
    "\n",
    "# extract a random sample from the population\n",
    "samples = np.random.choice(population, size=5)\n",
    "print('population mean is {}'.format(np.mean(population)))\n",
    "print('sample mean is {}'.format(np.mean(samples)))\n",
    "print('samples: {}'.format(samples))"
   ]
  },
  {
   "cell_type": "code",
   "execution_count": null,
   "metadata": {},
   "outputs": [
    {
     "name": "stdout",
     "output_type": "stream",
     "text": [
      "population mean is 15.5\n",
      "sampleMeanList mean is 15.551219999999999\n"
     ]
    }
   ],
   "source": [
    "import numpy as np \n",
    "population = np.array([1, 5, 10, 11, 14, 15, 15, 16, 18, 18, 19, 20, 25, 30])\n",
    "\n",
    "# calculate the population mean\n",
    "print('population mean is {}'.format(np.mean(population))) \n",
    "\n",
    "# store the sample mean\n",
    "sampleMeanList = []\n",
    "\n",
    "# iterate over 10000 samples\n",
    "for i in range(10000):\n",
    "    # extract a random sample from the population\n",
    "    samples = np.random.choice(population, size=5)\n",
    "    # calculate the sample mean and store it in the list\n",
    "    sampleMeanList.append(np.mean(samples))\n",
    "\n",
    "# calculate the mean of the sample mean list\n",
    "print('sampleMeanList mean is {}'.format(np.mean(sampleMeanList))) # 母集団の平均値にかなり近い！"
   ]
  },
  {
   "cell_type": "markdown",
   "metadata": {},
   "source": [
    "MEMO :\n",
    "1万個の標本平均の平均を計算すると、その値は母集団の平均にかなり近い値になることが確認できた。試行回数を増やすと、その値は母集団の平均に収束していくことが数学的に証明されている。\n",
    "ある推定量が“”一致推定量””であるとは、その推定量が真の母数に収束する性質を持っていることを意味する。標本平均は一致推定量である。"
   ]
  },
  {
   "cell_type": "markdown",
   "metadata": {},
   "source": [
    "詳しくは以下のサイトを参照にされたし\n",
    "https://bellcurve.jp/statistics/course/8614.html?srsltid=AfmBOopSoC3M4PeAyLy-AJcGlNufcpTE5NACbG40V_BHutzmnqiDB87j"
   ]
  },
  {
   "cell_type": "code",
   "execution_count": null,
   "metadata": {},
   "outputs": [],
   "source": []
  }
 ],
 "metadata": {
  "kernelspec": {
   "display_name": "Python 3",
   "language": "python",
   "name": "python3"
  },
  "language_info": {
   "codemirror_mode": {
    "name": "ipython",
    "version": 3
   },
   "file_extension": ".py",
   "mimetype": "text/x-python",
   "name": "python",
   "nbconvert_exporter": "python",
   "pygments_lexer": "ipython3",
   "version": "3.10.12"
  }
 },
 "nbformat": 4,
 "nbformat_minor": 2
}
