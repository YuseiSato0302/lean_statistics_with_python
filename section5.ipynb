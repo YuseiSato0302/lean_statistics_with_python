{
 "cells": [
  {
   "cell_type": "code",
   "execution_count": 1,
   "metadata": {},
   "outputs": [],
   "source": [
    "import numpy as np \n",
    "def getVariance(samples):\n",
    "    # 平均を計算\n",
    "    mean = np.mean(samples)\n",
    "    \n",
    "    # 偏差を計算\n",
    "    deviations = samples - mean\n",
    "    \n",
    "    # 偏差を2乗\n",
    "    squaredDeviations = deviations ** 2\n",
    "    \n",
    "    # 偏差の2乗の合計\n",
    "    sumSquaredDeviations = np.sum(squaredDeviations)\n",
    "    \n",
    "    # 分散を計算\n",
    "    variance = sumSquaredDeviations / len(samples)\n",
    "    \n",
    "    return variance"
   ]
  },
  {
   "cell_type": "code",
   "execution_count": null,
   "metadata": {},
   "outputs": [
    {
     "name": "stdout",
     "output_type": "stream",
     "text": [
      "11.537190082644628\n",
      "11.537190082644628\n"
     ]
    }
   ],
   "source": [
    "samples = [10, 10, 11, 14, 15, 15, 16, 18, 18, 19, 20]\n",
    "# 分散を計算\n",
    "print(getVariance(samples))\n",
    "\n",
    "# numpyのvar関数を使って分散を計算\n",
    "print(np.var(samples)) # 当然値は一致する"
   ]
  },
  {
   "cell_type": "code",
   "execution_count": 3,
   "metadata": {},
   "outputs": [
    {
     "name": "stdout",
     "output_type": "stream",
     "text": [
      "3.3966439440489826\n",
      "3.3966439440489826\n"
     ]
    }
   ],
   "source": [
    "# 標準偏差を計算\n",
    "print(np.sqrt(getVariance(samples)))\n",
    "\n",
    "# numpyのstd関数を使って標準偏差を計算\n",
    "print(np.std(samples)) # 当然値は一致する"
   ]
  },
  {
   "cell_type": "code",
   "execution_count": null,
   "metadata": {},
   "outputs": [
    {
     "name": "stdout",
     "output_type": "stream",
     "text": [
      "12.690909090909091\n",
      "3.562430222602134\n"
     ]
    }
   ],
   "source": [
    "# SciPyは不変分散を採用している\n",
    "from scipy import stats\n",
    "# 分散を計算\n",
    "print(stats.tvar(samples))\n",
    "\n",
    "# 標本標準偏差を計算\n",
    "print(stats.tstd(samples))"
   ]
  },
  {
   "cell_type": "code",
   "execution_count": 8,
   "metadata": {},
   "outputs": [
    {
     "name": "stdout",
     "output_type": "stream",
     "text": [
      "12.690909090909091\n",
      "3.562430222602134\n"
     ]
    }
   ],
   "source": [
    "# Pandasも不変分散を採用している\n",
    "import pandas as pd \n",
    "df = pd.DataFrame({'sample': samples})\n",
    "\n",
    "# 分散・標準偏差を計算\n",
    "print(df['sample'].var())\n",
    "print(df['sample'].std())"
   ]
  },
  {
   "cell_type": "code",
   "execution_count": null,
   "metadata": {},
   "outputs": [],
   "source": []
  }
 ],
 "metadata": {
  "kernelspec": {
   "display_name": "Python 3",
   "language": "python",
   "name": "python3"
  },
  "language_info": {
   "codemirror_mode": {
    "name": "ipython",
    "version": 3
   },
   "file_extension": ".py",
   "mimetype": "text/x-python",
   "name": "python",
   "nbconvert_exporter": "python",
   "pygments_lexer": "ipython3",
   "version": "3.10.12"
  }
 },
 "nbformat": 4,
 "nbformat_minor": 2
}
