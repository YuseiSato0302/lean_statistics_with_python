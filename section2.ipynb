{
 "cells": [
  {
   "cell_type": "code",
   "execution_count": null,
   "metadata": {},
   "outputs": [
    {
     "data": {
      "text/plain": [
       "303.2"
      ]
     },
     "execution_count": 1,
     "metadata": {},
     "output_type": "execute_result"
    }
   ],
   "source": [
    "# 算術平均を求める\n",
    "import numpy as np \n",
    "appleWeights = [295, 300, 300, 310, 311]\n",
    "np.mean(appleWeights)"
   ]
  },
  {
   "cell_type": "code",
   "execution_count": 2,
   "metadata": {},
   "outputs": [
    {
     "name": "stdout",
     "output_type": "stream",
     "text": [
      "1.1450956868476592\n"
     ]
    }
   ],
   "source": [
    "# データが「比率」の場合は、幾何平均を求める\n",
    "from scipy import stats\n",
    "salaryGrowth = [1.05, 1.1, 1.3]\n",
    "salaryGrowthMean = stats.gmean(salaryGrowth)\n",
    "print(salaryGrowthMean)"
   ]
  },
  {
   "cell_type": "code",
   "execution_count": 3,
   "metadata": {},
   "outputs": [
    {
     "name": "stdout",
     "output_type": "stream",
     "text": [
      "30.0\n"
     ]
    }
   ],
   "source": [
    "# 調和平均\n",
    "velocities = [20, 60]\n",
    "velocitiesMean = stats.hmean(velocities)\n",
    "print(velocitiesMean)"
   ]
  },
  {
   "cell_type": "code",
   "execution_count": 5,
   "metadata": {},
   "outputs": [
    {
     "name": "stdout",
     "output_type": "stream",
     "text": [
      "5.684341886080802e-14\n"
     ]
    }
   ],
   "source": [
    "# 算術平均からの差の合計は常にゼロ\n",
    "appleWeights = np.array([295, 300, 300, 310, 311])\n",
    "appleWeightsMean = np.mean(appleWeights)\n",
    "deviations = appleWeights - appleWeightsMean\n",
    "print(deviations.sum()) # 5.684341886080802e-14 ← ほぼゼロ"
   ]
  }
 ],
 "metadata": {
  "kernelspec": {
   "display_name": "Python 3",
   "language": "python",
   "name": "python3"
  },
  "language_info": {
   "codemirror_mode": {
    "name": "ipython",
    "version": 3
   },
   "file_extension": ".py",
   "mimetype": "text/x-python",
   "name": "python",
   "nbconvert_exporter": "python",
   "pygments_lexer": "ipython3",
   "version": "3.10.12"
  }
 },
 "nbformat": 4,
 "nbformat_minor": 2
}
