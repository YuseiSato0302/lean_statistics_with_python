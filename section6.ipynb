{
 "cells": [
  {
   "cell_type": "code",
   "execution_count": null,
   "metadata": {},
   "outputs": [
    {
     "name": "stdout",
     "output_type": "stream",
     "text": [
      "population variance is 51.392857142857146\n",
      "sample variance is 4.666666666666667\n",
      "samples: [10 15 11]\n"
     ]
    }
   ],
   "source": [
    "import numpy as np \n",
    "population = np.array([1, 5, 10, 11, 14, 15, 15, 16, 18, 18, 19, 20, 25, 30])\n",
    "\n",
    "# ランダムに値を抽出\n",
    "samples = np.random.choice(population, size=3)\n",
    "print('population variance is {}'.format(np.var(population)))\n",
    "print('sample variance is {}'.format(np.var(samples))) # ほとんどのケースにおいて母集団の分散を下回る\n",
    "print('samples: {}'.format(samples))"
   ]
  },
  {
   "cell_type": "markdown",
   "metadata": {},
   "source": [
    "MEMO : \n",
    "標本は母集団の一部を取り出すのだから両極端な値をとるなどしなければ分散は小さくなることは自然とイメージできる。\n",
    "数学的に考えても、標本の偏差の値を最小(=0)にするのが標本の平均値なので、代わりに母集団の平均値を代入しても分散は大きくなるに決まっている。\n",
    "不偏分散はそれを調節して母集団の分散を推定するための手段であり、具体的には今までのようにNで割って分散を求めるのではなくN-1で割って分散を求めている。\n",
    "次章ではなぜN-1なのか、その根拠について考えてみることとする。"
   ]
  }
 ],
 "metadata": {
  "kernelspec": {
   "display_name": "Python 3",
   "language": "python",
   "name": "python3"
  },
  "language_info": {
   "codemirror_mode": {
    "name": "ipython",
    "version": 3
   },
   "file_extension": ".py",
   "mimetype": "text/x-python",
   "name": "python",
   "nbconvert_exporter": "python",
   "pygments_lexer": "ipython3",
   "version": "3.10.12"
  }
 },
 "nbformat": 4,
 "nbformat_minor": 2
}
